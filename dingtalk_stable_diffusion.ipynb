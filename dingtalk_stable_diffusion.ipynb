{
  "cells": [
    {
      "cell_type": "code",
      "execution_count": null,
      "metadata": {
        "id": "55J0S0BzdfXF"
      },
      "outputs": [],
      "source": [
        "# 输出调试信息\n",
        "!nvidia-smi\n",
        "!git clone https://github.com/chzealot/dingtalk-stable-diffusion.git\n",
        "%cd dingtalk-stable-diffusion\n",
        "!pip install -r requirements.txt\n",
        "\n",
        "!python ./dingtalksd.py --client_id=\"2690361164\" --client_secret=\"QVLiG7JMrptpE985YNNKc6oOc97tjvPk7X6Pb6-TeV3ap-hub7jKdCoVNF4ccX6D\"\n",
        "\n",
        "# 温馨提醒\n",
        "# 1. 需要在钉钉开发者后台，为机器人应用申请 \"企业内机器人发送消息权限\"（权限点 Code 为 qyapi_robot_sendmsg），否则会出现功能降级，不支持进度更新 \n",
        "# 2. 如果是从其他地方 copy 到 colab 的代码，务必将运行时类型中硬件加速器改为 GPU（菜单栏-代码执行程序-更改运行时类型）\n"
      ]
    }
  ],
  "metadata": {
    "colab": {
      "private_outputs": true,
      "provenance": [],
      "toc_visible": true,
      "gpuType": "T4"
    },
    "kernelspec": {
      "display_name": "Python 3",
      "name": "python3"
    },
    "language_info": {
      "name": "python"
    },
    "accelerator": "GPU",
    "gpuClass": "standard"
  },
  "nbformat": 4,
  "nbformat_minor": 0
}
